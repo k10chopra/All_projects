{
 "cells": [
  {
   "cell_type": "code",
   "execution_count": 3,
   "metadata": {},
   "outputs": [
    {
     "name": "stdout",
     "output_type": "stream",
     "text": [
      "Enter any number1.2\n",
      "Your Input is : 12.0\n"
     ]
    }
   ],
   "source": [
    "input_str = input('Enter any number')\n",
    "\n",
    "print('Your Input is : ' + str (float(input_str)*10))"
   ]
  },
  {
   "cell_type": "code",
   "execution_count": 4,
   "metadata": {},
   "outputs": [
    {
     "name": "stdout",
     "output_type": "stream",
     "text": [
      "True\n",
      "False\n",
      "True\n",
      "False\n"
     ]
    }
   ],
   "source": [
    "print(2 <= 3)      # 2 <= 3 is true\n",
    "print(3.5 > 4)     # 3.5 > 4 is false\n",
    "print(2 == 2.0)    # 2 == 2.0 is true\n",
    "print(2 != 2.0)    # 2 != 2.0 is false"
   ]
  },
  {
   "cell_type": "code",
   "execution_count": 5,
   "metadata": {},
   "outputs": [
    {
     "name": "stdout",
     "output_type": "stream",
     "text": [
      "True\n",
      "False\n",
      "True\n"
     ]
    }
   ],
   "source": [
    "print(0 == 0.0)         # True because 0 and 0.0 have equal values\n",
    "print(0 is 0.0)         # False because they are not the same object\n",
    "print(0 is not 0.0)     # True because they are of the same object"
   ]
  },
  {
   "cell_type": "code",
   "execution_count": 7,
   "metadata": {},
   "outputs": [
    {
     "name": "stdout",
     "output_type": "stream",
     "text": [
      "True\n",
      "False\n",
      "False\n",
      "False\n",
      "True\n"
     ]
    }
   ],
   "source": [
    "sentence = 'All work and no play makes Jake a dull boy.'\n",
    "\n",
    "print ('work' in sentence)\n",
    "print ('Work' in sentence)\n",
    "print ('John' in sentence)\n",
    "print ('jake' in sentence)\n",
    "print ('Jake' in sentence)"
   ]
  },
  {
   "cell_type": "code",
   "execution_count": 1,
   "metadata": {},
   "outputs": [
    {
     "name": "stdout",
     "output_type": "stream",
     "text": [
      "False\n",
      "True\n"
     ]
    }
   ],
   "source": [
    "is_monday = True\n",
    "is_public_holiday = False\n",
    "is_weekend = False\n",
    "\n",
    "no_work = is_public_holiday and is_weekend\n",
    "stressful_day = is_monday and not is_public_holiday\n",
    "\n",
    "print(no_work)\n",
    "print(stressful_day)"
   ]
  },
  {
   "cell_type": "code",
   "execution_count": 9,
   "metadata": {},
   "outputs": [
    {
     "name": "stdout",
     "output_type": "stream",
     "text": [
      "What is your age? : 23\n",
      "\n",
      "Your ticket price is : $35\n"
     ]
    }
   ],
   "source": [
    "age = int(input('What is your age? : '))\n",
    "\n",
    "if age < 3:\n",
    "    ticket_price = 0\n",
    "elif age > 3 and age <= 12:\n",
    "    ticket_price = 16\n",
    "elif age > 12 and age <60:\n",
    "    ticket_price = 35\n",
    "else:\n",
    "    ticket_price = 12\n",
    "    \n",
    "print('\\nYour ticket price is : $' + str(ticket_price))"
   ]
  },
  {
   "cell_type": "code",
   "execution_count": 12,
   "metadata": {},
   "outputs": [
    {
     "name": "stdout",
     "output_type": "stream",
     "text": [
      "Total Newspapers sold: 300\n",
      "Total Profit is: 150.0\n"
     ]
    }
   ],
   "source": [
    "cost = 0.1\n",
    "price = 0.6\n",
    "order = 550\n",
    "\n",
    "demand = 300\n",
    "\n",
    "if demand < order:\n",
    "    sold = demand\n",
    "else:\n",
    "    sold = order\n",
    "\n",
    "profit = price*sold - cost*sold\n",
    "\n",
    "print('Total Newspapers sold: ' + str(sold))\n",
    "print('Total Profit is: ' + str(profit))"
   ]
  },
  {
   "cell_type": "code",
   "execution_count": 14,
   "metadata": {},
   "outputs": [
    {
     "name": "stdout",
     "output_type": "stream",
     "text": [
      "Total Newspapers sold: 550\n",
      "Total Profit is: 275.0\n"
     ]
    }
   ],
   "source": [
    "cost = 0.1\n",
    "price = 0.6\n",
    "order = 550\n",
    "\n",
    "demand = 600\n",
    "\n",
    "sold = demand if demand <order else order\n",
    "\n",
    "profit = price*sold - cost*sold\n",
    "\n",
    "print('Total Newspapers sold: ' + str(sold))\n",
    "print('Total Profit is: ' + str(profit))"
   ]
  },
  {
   "cell_type": "code",
   "execution_count": 19,
   "metadata": {},
   "outputs": [
    {
     "name": "stdout",
     "output_type": "stream",
     "text": [
      "Are you an NUS student? Yes/No: Yes\n",
      "Are you a Business student? Yes/No: Yes\n",
      "Have you completed all the prerequsities? Yes/No: No\n",
      "\n",
      "You must complete your prerequsities first\n"
     ]
    }
   ],
   "source": [
    "is_nus = input('Are you an NUS student? Yes/No: ')\n",
    "\n",
    "if is_nus == 'Yes':\n",
    "    is_biz = input('Are you a Business student? Yes/No: ')\n",
    "    if is_biz == 'Yes':\n",
    "        done_prerequisites = input('Have you completed all the prerequsities? Yes/No: ')\n",
    "        if done_prerequisites == 'Yes':\n",
    "            print('\\nYou are qualified for the Python course in Business School.')\n",
    "        else:\n",
    "            print('\\nYou must complete your prerequsities first')\n",
    "    else:\n",
    "        print('\\nSorry, this Python course is only provided to Business School students.')\n",
    "else:\n",
    "    print('\\nSorry, this Python course is only provided to NUS students.')"
   ]
  },
  {
   "cell_type": "code",
   "execution_count": 22,
   "metadata": {},
   "outputs": [
    {
     "name": "stdout",
     "output_type": "stream",
     "text": [
      "\n",
      "Dr. Strange: Doramammu, I've come to bargain\n",
      "Doramammu: No\n",
      "Dr. Strange: Ahhhhh...........\n",
      "\n",
      "Dr. Strange: Doramammu, I've come to bargain\n",
      "Doramammu: what?\n",
      "Dr. Strange: Ahhhhh...........\n",
      "\n",
      "Dr. Strange: Doramammu, I've come to bargain\n",
      "Doramammu: i quit\n",
      "Dr. Strange: Ahhhhh...........\n",
      "\n",
      "Dr. Strange: Doramammu, I've come to bargain\n",
      "Doramammu: I quit\n",
      "\n",
      "Dr. Strange: Wise words bro!\n",
      "\n",
      "----------\n",
      "\n"
     ]
    }
   ],
   "source": [
    "doramammu_quit = False\n",
    "\n",
    "while not doramammu_quit:\n",
    "    print('\\nDr. Strange: Doramammu, I\\'ve come to bargain')\n",
    "    Doramammu_says = input('Doramammu: ')\n",
    "    if Doramammu_says == 'You win' or Doramammu_says == 'I quit':\n",
    "        doramammu_quit = True\n",
    "        print('\\nDr. Strange: Wise words bro!')\n",
    "    else:\n",
    "        print('Dr. Strange: Ahhhhh...........')\n",
    "print('\\n----------\\n')"
   ]
  },
  {
   "cell_type": "code",
   "execution_count": 23,
   "metadata": {},
   "outputs": [
    {
     "name": "stdout",
     "output_type": "stream",
     "text": [
      "\n",
      "Dr. Strange: Doramammu, I've come to bargain\n",
      "Doramammu: no\n",
      "Dr. Strange: Ahhhhh...........\n",
      "\n",
      "Dr. Strange: Doramammu, I've come to bargain\n",
      "Doramammu: I quit\n",
      "\n",
      "Dr. Strange: Wise words bro!\n",
      "\n",
      "----------\n",
      "\n"
     ]
    }
   ],
   "source": [
    "doramammu_quit = False\n",
    "\n",
    "while not doramammu_quit:\n",
    "    print('\\nDr. Strange: Doramammu, I\\'ve come to bargain')\n",
    "    Doramammu_says = input('Doramammu: ')\n",
    "    if Doramammu_says == 'You win' or Doramammu_says == 'I quit':\n",
    "        print('\\nDr. Strange: Wise words bro!')\n",
    "        break\n",
    "    else:\n",
    "        print('Dr. Strange: Ahhhhh...........')\n",
    "print('\\n----------\\n')"
   ]
  },
  {
   "cell_type": "code",
   "execution_count": 27,
   "metadata": {},
   "outputs": [
    {
     "name": "stdout",
     "output_type": "stream",
     "text": [
      "What is your name? : Ketan Chopra\n",
      "Give me a K: \n",
      "K!!!\n",
      "Give me a e: \n",
      "e!!!\n",
      "Give me a t: \n",
      "t!!!\n",
      "Give me a a: \n",
      "a!!!\n",
      "Give me a n: \n",
      "n!!!\n",
      "Give me a  : \n",
      " !!!\n",
      "Give me a C: \n",
      "C!!!\n",
      "Give me a h: \n",
      "h!!!\n",
      "Give me a o: \n",
      "o!!!\n",
      "Give me a p: \n",
      "p!!!\n",
      "Give me a r: \n",
      "r!!!\n",
      "Give me a a: \n",
      "a!!!\n",
      "What's that spell? : \n",
      "Ketan Chopra!!\n",
      "Go! Go! Ketan Chopra!!\n"
     ]
    }
   ],
   "source": [
    "name = input('What is your name? : ')\n",
    "\n",
    "for letter in name:\n",
    "    print('Give me a ' + letter + ': ')\n",
    "    print(letter + '!!!')\n",
    "    \n",
    "print(\"What's that spell? : \")\n",
    "print(name + '!!')\n",
    "\n",
    "print('Go! Go! ' + name + '!!')"
   ]
  },
  {
   "cell_type": "code",
   "execution_count": 30,
   "metadata": {},
   "outputs": [
    {
     "name": "stdout",
     "output_type": "stream",
     "text": [
      "What is your name? : Ketan Chopra\n",
      "Give me a K: \n",
      "K!!!\n",
      "Give me a e: \n",
      "e!!!\n",
      "Give me a t: \n",
      "t!!!\n",
      "Give me a a: \n",
      "a!!!\n",
      "Give me a n: \n",
      "n!!!\n",
      "Give me a C: \n",
      "C!!!\n",
      "Give me a h: \n",
      "h!!!\n",
      "Give me a o: \n",
      "o!!!\n",
      "Give me a p: \n",
      "p!!!\n",
      "Give me a r: \n",
      "r!!!\n",
      "Give me a a: \n",
      "a!!!\n",
      "What's that spell? : \n",
      "Ketan Chopra!!\n",
      "Go! Go! Ketan Chopra!!\n"
     ]
    }
   ],
   "source": [
    "name = input('What is your name? : ')\n",
    "\n",
    "for letter in name:\n",
    "    if letter == ' ':\n",
    "        continue\n",
    "        \n",
    "    print('Give me a ' + letter + ': ')\n",
    "    print(letter + '!!!')\n",
    "    \n",
    "print(\"What's that spell? : \")\n",
    "print(name + '!!')\n",
    "\n",
    "print('Go! Go! ' + name + '!!')"
   ]
  },
  {
   "cell_type": "code",
   "execution_count": 31,
   "metadata": {},
   "outputs": [
    {
     "name": "stdout",
     "output_type": "stream",
     "text": [
      "ab\n",
      "abdefg\n"
     ]
    }
   ],
   "source": [
    "a_string = 'abcdefg'\n",
    "\n",
    "new_string = ''\n",
    "for letter in a_string:\n",
    "    if letter == 'c':\n",
    "        break\n",
    "    new_string = new_string + letter\n",
    "print(new_string)\n",
    "\n",
    "new_string = ''\n",
    "for letter in a_string:\n",
    "    if letter == 'c':\n",
    "        continue\n",
    "    new_string = new_string + letter\n",
    "print(new_string)"
   ]
  },
  {
   "cell_type": "code",
   "execution_count": 32,
   "metadata": {},
   "outputs": [
    {
     "name": "stdout",
     "output_type": "stream",
     "text": [
      "2.52.51\n"
     ]
    }
   ],
   "source": [
    "a = '2.5'\n",
    "\n",
    "b = \"1\"\n",
    "\n",
    "print(str(a*2) + str(b))"
   ]
  },
  {
   "cell_type": "code",
   "execution_count": 33,
   "metadata": {},
   "outputs": [
    {
     "name": "stdout",
     "output_type": "stream",
     "text": [
      "2.42.4\n"
     ]
    }
   ],
   "source": [
    "a = 2.4\n",
    "\n",
    "b = 2.0\n",
    "\n",
    "print(str(a)*2 if a <= 3 and b == 2.0 else str(b*2))"
   ]
  },
  {
   "cell_type": "code",
   "execution_count": 35,
   "metadata": {},
   "outputs": [
    {
     "name": "stdout",
     "output_type": "stream",
     "text": [
      "Hey Jude!\n",
      "e ue\n"
     ]
    }
   ],
   "source": [
    "greeting = 'Hey '\n",
    "\n",
    "to = 'Jude!'\n",
    "\n",
    "sentence = greeting + to\n",
    "\n",
    "print(sentence)\n",
    "print(sentence[1::2])"
   ]
  },
  {
   "cell_type": "code",
   "execution_count": 1,
   "metadata": {},
   "outputs": [
    {
     "name": "stdout",
     "output_type": "stream",
     "text": [
      "Kennedy\n"
     ]
    }
   ],
   "source": [
    "name = 'John Fitzgerald Kennedy'\n",
    "\n",
    "while True:\n",
    "\n",
    "    index = name.find(' ')                 \n",
    "\n",
    "    if index == -1:                  \n",
    "\n",
    "        break                                   \n",
    "\n",
    "    name = name[index+1:]                     \n",
    "\n",
    "print(name)"
   ]
  },
  {
   "cell_type": "code",
   "execution_count": 66,
   "metadata": {},
   "outputs": [
    {
     "name": "stdout",
     "output_type": "stream",
     "text": [
      "Enter a Name: JOhn FOrd LJld\n",
      "'JFL'\n"
     ]
    }
   ],
   "source": [
    "name = input(\"Enter a Name: \").upper().split()\n",
    "initials = \"\"\n",
    "for first_item in name:\n",
    "    initials += first_item[0]\n",
    "print(f\"'{initials}'\")\n"
   ]
  },
  {
   "cell_type": "code",
   "execution_count": 57,
   "metadata": {},
   "outputs": [
    {
     "name": "stdout",
     "output_type": "stream",
     "text": [
      "What is your name? : A dnwkdeio\n",
      "Give me an A: \n",
      "A!!!\n",
      "Give me a D: \n",
      "D!!!\n",
      "Give me a N: \n",
      "N!!!\n",
      "Give me a W: \n",
      "W!!!\n",
      "Give me a K: \n",
      "K!!!\n",
      "Give me a D: \n",
      "D!!!\n",
      "Give me an E: \n",
      "E!!!\n",
      "Give me an I: \n",
      "I!!!\n",
      "Give me an O: \n",
      "O!!!\n",
      "\n",
      "What's that spell? : \n",
      "A DNWKDEIO!!\n",
      "\n",
      "Go! Go! A DNWKDEIO!!\n"
     ]
    }
   ],
   "source": [
    "name = input('What is your name? : ').upper()\n",
    "vowels = 'AEIOU'\n",
    "\n",
    "for letter in name:\n",
    "    if letter == ' ':\n",
    "        continue\n",
    "    if letter in vowels:\n",
    "        print('Give me an ' + letter + ': ')\n",
    "    else:\n",
    "        print('Give me a ' + letter + ': ')\n",
    "    print(letter + '!!!')\n",
    "    \n",
    "print(\"\\nWhat's that spell? : \")\n",
    "print(name + '!!')\n",
    "\n",
    "print('\\nGo! Go! ' + name + '!!')"
   ]
  },
  {
   "cell_type": "code",
   "execution_count": 64,
   "metadata": {},
   "outputs": [
    {
     "name": "stdout",
     "output_type": "stream",
     "text": [
      "Please write a sentence: Sach Sljfo Sjijg lssaa sasdef \n",
      "7\n"
     ]
    }
   ],
   "source": [
    "sentence = input('Please write a sentence: ').lower()\n",
    "total_number_of_s = 0\n",
    "\n",
    "while True:   \n",
    "    index = sentence.find('s')\n",
    "    if index == -1:\n",
    "        break\n",
    "    total_number_of_s += 1\n",
    "    sentence = sentence[index+1:]\n",
    "    \n",
    "print(total_number_of_s)"
   ]
  },
  {
   "cell_type": "code",
   "execution_count": 65,
   "metadata": {},
   "outputs": [
    {
     "name": "stdout",
     "output_type": "stream",
     "text": [
      "Please enter a number between 1 to 99: 10.2\n"
     ]
    },
    {
     "ename": "ValueError",
     "evalue": "invalid literal for int() with base 10: '10.2'",
     "output_type": "error",
     "traceback": [
      "\u001b[1;31m---------------------------------------------------------------------------\u001b[0m",
      "\u001b[1;31mValueError\u001b[0m                                Traceback (most recent call last)",
      "\u001b[1;32m<ipython-input-65-9dfe14b0ef5a>\u001b[0m in \u001b[0;36m<module>\u001b[1;34m\u001b[0m\n\u001b[0;32m      3\u001b[0m \u001b[1;32mwhile\u001b[0m \u001b[1;32mTrue\u001b[0m\u001b[1;33m:\u001b[0m\u001b[1;33m\u001b[0m\u001b[1;33m\u001b[0m\u001b[0m\n\u001b[0;32m      4\u001b[0m     \u001b[0mnumber\u001b[0m \u001b[1;33m=\u001b[0m \u001b[0minput\u001b[0m\u001b[1;33m(\u001b[0m\u001b[1;34m'Please enter a number between 1 to 99: '\u001b[0m\u001b[1;33m)\u001b[0m\u001b[1;33m\u001b[0m\u001b[1;33m\u001b[0m\u001b[0m\n\u001b[1;32m----> 5\u001b[1;33m     \u001b[0mnumber\u001b[0m \u001b[1;33m=\u001b[0m \u001b[0mint\u001b[0m\u001b[1;33m(\u001b[0m\u001b[0mnumber\u001b[0m\u001b[1;33m)\u001b[0m\u001b[1;33m\u001b[0m\u001b[1;33m\u001b[0m\u001b[0m\n\u001b[0m\u001b[0;32m      6\u001b[0m \u001b[1;33m\u001b[0m\u001b[0m\n\u001b[0;32m      7\u001b[0m     \u001b[1;32mif\u001b[0m \u001b[0mint\u001b[0m\u001b[1;33m(\u001b[0m\u001b[0mnumber\u001b[0m\u001b[1;33m)\u001b[0m \u001b[1;33m>=\u001b[0m \u001b[1;36m1\u001b[0m \u001b[1;32mand\u001b[0m \u001b[0mint\u001b[0m\u001b[1;33m(\u001b[0m\u001b[0mnumber\u001b[0m\u001b[1;33m)\u001b[0m \u001b[1;33m<\u001b[0m \u001b[1;36m47\u001b[0m\u001b[1;33m:\u001b[0m\u001b[1;33m\u001b[0m\u001b[1;33m\u001b[0m\u001b[0m\n",
      "\u001b[1;31mValueError\u001b[0m: invalid literal for int() with base 10: '10.2'"
     ]
    }
   ],
   "source": [
    "number = 47\n",
    "\n",
    "while True:\n",
    "    number = input('Please enter a number between 1 to 99: ')\n",
    "    number = int(number)\n",
    "    \n",
    "    if int(number) >= 1 and int(number) < 47:\n",
    "        print(\"Your guess is too small\\n\")\n",
    "        continue\n",
    "        \n",
    "    elif int(number) > 47 and int(number) <= 99:\n",
    "        print(\"Your guess is too large\\n\")\n",
    "        continue\n",
    "        \n",
    "    elif int(number) == 47:\n",
    "        print(\"Bingo!\\n\")\n",
    "        break\n",
    "        \n",
    "    else:\n",
    "       # print(\"Please enter a number between 1 to 99: \\n\")\n",
    "        continue\n",
    "print('\\n----------\\n')"
   ]
  },
  {
   "cell_type": "code",
   "execution_count": 62,
   "metadata": {},
   "outputs": [
    {
     "name": "stdout",
     "output_type": "stream",
     "text": [
      "Please enter a number greater than 10 :;hciownf \n",
      "\n",
      "The number entered is not a palindrome\n",
      "\n",
      "----------\n",
      "\n"
     ]
    }
   ],
   "source": [
    "number = input(\"Please enter a number greater than 10 :\")\n",
    "\n",
    "reverse_number = number[::-1]\n",
    "\n",
    "if number == reverse_number:\n",
    "    print(\"\\nThe number entered is a palindrome\")\n",
    "else:\n",
    "    print(\"\\nThe number entered is not a palindrome\")\n",
    "    \n",
    "print('\\n----------\\n')"
   ]
  },
  {
   "cell_type": "code",
   "execution_count": 73,
   "metadata": {},
   "outputs": [],
   "source": [
    "# name = input(\"What's your name? : \").upper()\n",
    "\n",
    "# initials = \"\"\n",
    "\n",
    "# For a in name:\n",
    "#     intials += a[0]\n",
    "    \n",
    "# print(a)\n"
   ]
  },
  {
   "cell_type": "code",
   "execution_count": 74,
   "metadata": {},
   "outputs": [
    {
     "name": "stdout",
     "output_type": "stream",
     "text": [
      "v\n",
      "consanant\n",
      "---------\n",
      "i\n",
      "vowel\n",
      "---------\n",
      "k\n",
      "consanant\n",
      "---------\n",
      "e\n",
      "vowel\n",
      "---------\n",
      "s\n",
      "consanant\n",
      "---------\n",
      "h\n",
      "consanant\n",
      "---------\n"
     ]
    }
   ],
   "source": [
    "# defining the vowel letters\n",
    "letter_an = 'AEIOU'\n",
    "\n",
    "name = \"vikesh\"\n",
    "\n",
    "for letter in name:\n",
    "    print(letter)\n",
    "    if letter.upper() in letter_an:\n",
    "        print(\"vowel\")\n",
    "    else:\n",
    "        print(\"consanant\")\n",
    "    print(\"---------\")\n"
   ]
  },
  {
   "cell_type": "code",
   "execution_count": 75,
   "metadata": {},
   "outputs": [
    {
     "ename": "NameError",
     "evalue": "name 'integer' is not defined",
     "output_type": "error",
     "traceback": [
      "\u001b[1;31m---------------------------------------------------------------------------\u001b[0m",
      "\u001b[1;31mNameError\u001b[0m                                 Traceback (most recent call last)",
      "\u001b[1;32m<ipython-input-75-d0cc274a671a>\u001b[0m in \u001b[0;36m<module>\u001b[1;34m\u001b[0m\n\u001b[1;32m----> 1\u001b[1;33m \u001b[0minteger\u001b[0m \u001b[1;33m=\u001b[0m \u001b[0mstr\u001b[0m\u001b[1;33m(\u001b[0m\u001b[0mabs\u001b[0m\u001b[1;33m(\u001b[0m\u001b[0mint\u001b[0m\u001b[1;33m(\u001b[0m\u001b[0minteger\u001b[0m\u001b[1;33m)\u001b[0m\u001b[1;33m)\u001b[0m\u001b[1;33m)\u001b[0m\u001b[1;33m\u001b[0m\u001b[1;33m\u001b[0m\u001b[0m\n\u001b[0m",
      "\u001b[1;31mNameError\u001b[0m: name 'integer' is not defined"
     ]
    }
   ],
   "source": [
    "# integer = str(abs(int(integer)))\n"
   ]
  },
  {
   "cell_type": "code",
   "execution_count": 77,
   "metadata": {},
   "outputs": [],
   "source": [
    "# sentence = \"hey there\"\n",
    "\n",
    "# count = 0 \n",
    "# for letter in sentence.upper():\n",
    "#     letter == \"S\"\n"
   ]
  },
  {
   "cell_type": "code",
   "execution_count": null,
   "metadata": {},
   "outputs": [],
   "source": []
  }
 ],
 "metadata": {
  "kernelspec": {
   "display_name": "Python 3",
   "language": "python",
   "name": "python3"
  },
  "language_info": {
   "codemirror_mode": {
    "name": "ipython",
    "version": 3
   },
   "file_extension": ".py",
   "mimetype": "text/x-python",
   "name": "python",
   "nbconvert_exporter": "python",
   "pygments_lexer": "ipython3",
   "version": "3.7.6"
  }
 },
 "nbformat": 4,
 "nbformat_minor": 4
}
