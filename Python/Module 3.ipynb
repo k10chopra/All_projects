{
 "cells": [
  {
   "cell_type": "code",
   "execution_count": 9,
   "metadata": {},
   "outputs": [],
   "source": [
    "i_feel_empty = []\n",
    "\n",
    "furious_five = ['mentis','crane','lioness','monkey','viper']\n",
    "\n",
    "my_answers = ['A','B',\n",
    "              False, True,\n",
    "              0.258,3.6]"
   ]
  },
  {
   "cell_type": "code",
   "execution_count": 10,
   "metadata": {},
   "outputs": [
    {
     "name": "stdout",
     "output_type": "stream",
     "text": [
      "[]\n",
      "['mentis', 'crane', 'lioness', 'monkey', 'viper']\n",
      "['A', 'B', False, True, 0.258, 3.6]\n"
     ]
    }
   ],
   "source": [
    "print(i_feel_empty)\n",
    "print(furious_five)\n",
    "print(my_answers)"
   ]
  },
  {
   "cell_type": "code",
   "execution_count": 14,
   "metadata": {},
   "outputs": [],
   "source": [
    "last_warrior = furious_five[-1]\n",
    "first_two_warriors = furious_five[:2]"
   ]
  },
  {
   "cell_type": "code",
   "execution_count": 15,
   "metadata": {},
   "outputs": [
    {
     "name": "stdout",
     "output_type": "stream",
     "text": [
      "viper\n",
      "['mentis', 'crane']\n"
     ]
    }
   ],
   "source": [
    "print(last_warrior)\n",
    "print(first_two_warriors)\n"
   ]
  },
  {
   "cell_type": "code",
   "execution_count": 16,
   "metadata": {},
   "outputs": [
    {
     "name": "stdout",
     "output_type": "stream",
     "text": [
      "C\n"
     ]
    }
   ],
   "source": [
    "my_answers = [['B', 'C'],       # Answers for MCQs\n",
    "              [False, True],    # Answers for True or False questions\n",
    "              [0.256, 2]]       # Answers for quantitative questions \n",
    "\n",
    "all_mcqs = my_answers[0]\n",
    "second_mcq = all_mcqs[1]\n",
    "print(second_mcq)"
   ]
  },
  {
   "cell_type": "code",
   "execution_count": 19,
   "metadata": {},
   "outputs": [],
   "source": [
    "second_mcq = my_answers[2][0]"
   ]
  },
  {
   "cell_type": "code",
   "execution_count": 20,
   "metadata": {},
   "outputs": [
    {
     "name": "stdout",
     "output_type": "stream",
     "text": [
      "0.256\n"
     ]
    }
   ],
   "source": [
    "print(second_mcq)"
   ]
  },
  {
   "cell_type": "code",
   "execution_count": 21,
   "metadata": {},
   "outputs": [
    {
     "name": "stdout",
     "output_type": "stream",
     "text": [
      "['A', 'B', 'C', 2, 2.5, 2, 2.5, 2, 2.5]\n",
      "9\n"
     ]
    }
   ],
   "source": [
    "letters = ['A','B','C']\n",
    "numbers = [2, 2.5]\n",
    "\n",
    "mixed = letters + numbers*3\n",
    "\n",
    "print(mixed)\n",
    "print(len(mixed))"
   ]
  },
  {
   "cell_type": "code",
   "execution_count": 22,
   "metadata": {},
   "outputs": [
    {
     "name": "stdout",
     "output_type": "stream",
     "text": [
      "['B', 'C', True, False, 0.258, 3]\n",
      "['B', 'D', True, False, 0.258, 3]\n",
      "['B', 'D', False, True, 8.7, 3]\n"
     ]
    }
   ],
   "source": [
    "my_answers = ['B','C', True, False, 0.258, 3]\n",
    "print(my_answers)\n",
    "\n",
    "my_answers[1] = 'D'\n",
    "print(my_answers)\n",
    "\n",
    "my_answers[2:5] = [False, True, 8.7]\n",
    "print(my_answers)"
   ]
  },
  {
   "cell_type": "code",
   "execution_count": 23,
   "metadata": {},
   "outputs": [
    {
     "name": "stdout",
     "output_type": "stream",
     "text": [
      "True True\n",
      "['Java', 'C', 'Pythoon']\n",
      "['Java', 'C', 'Pythoon']\n"
     ]
    }
   ],
   "source": [
    "list1 = ['Java', 'C', 'Python']\n",
    "list2 = list1\n",
    "\n",
    "print(list2 == list1,\n",
    "      list2 is list1)\n",
    "\n",
    "list2[2] = 'Pythoon'\n",
    "\n",
    "print(list1)\n",
    "print(list2)"
   ]
  },
  {
   "cell_type": "code",
   "execution_count": 24,
   "metadata": {},
   "outputs": [
    {
     "name": "stdout",
     "output_type": "stream",
     "text": [
      "False True\n",
      "['Java', 'C', 'Python']\n",
      "['JEE', 'C', 'Python']\n"
     ]
    }
   ],
   "source": [
    "list1 = ['Java', 'C', 'Python']\n",
    "list2 = list1.copy()\n",
    "\n",
    "print(list1 is list2,\n",
    "      list1 == list2)\n",
    "\n",
    "list2[0] = 'JEE'\n",
    "\n",
    "print(list1)\n",
    "print(list2)"
   ]
  },
  {
   "cell_type": "code",
   "execution_count": 25,
   "metadata": {},
   "outputs": [
    {
     "name": "stdout",
     "output_type": "stream",
     "text": [
      "True\n",
      "False\n"
     ]
    }
   ],
   "source": [
    "list2 = list1[:]\n",
    "\n",
    "print(list1 == list2)\n",
    "print(list1 is list2)"
   ]
  },
  {
   "cell_type": "code",
   "execution_count": 26,
   "metadata": {},
   "outputs": [
    {
     "name": "stdout",
     "output_type": "stream",
     "text": [
      "['1', '2', '3', '4']\n",
      "['1', '2', '3', '4', 5]\n",
      "['1', '2', '3', '4', 5, '6', '7', '8', '9']\n"
     ]
    }
   ],
   "source": [
    "the_list = ['1','2','3','4']\n",
    "print(the_list)\n",
    "\n",
    "the_list.append(5)\n",
    "print(the_list)\n",
    "\n",
    "another_list = ['6','7','8','9']\n",
    "the_list.extend(another_list)\n",
    "print(the_list)"
   ]
  },
  {
   "cell_type": "code",
   "execution_count": 27,
   "metadata": {},
   "outputs": [
    {
     "name": "stdout",
     "output_type": "stream",
     "text": [
      "['1', '2', '3', '4', '6', '7', '8', '9', 5]\n",
      "['1', '2', '3', '4']\n"
     ]
    }
   ],
   "source": [
    "the_list = ['1','2','3','4']\n",
    "another_list = ['6','7','8','9']\n",
    "\n",
    "new_list = the_list + another_list + [5]\n",
    "\n",
    "print(new_list)\n",
    "print(the_list)"
   ]
  },
  {
   "cell_type": "code",
   "execution_count": 28,
   "metadata": {},
   "outputs": [
    {
     "name": "stdout",
     "output_type": "stream",
     "text": [
      "['1', '2', '3', '4']\n"
     ]
    }
   ],
   "source": [
    "the_list = ['1','2','3','here','4']\n",
    "\n",
    "the_list.remove('here')\n",
    "print(the_list)"
   ]
  },
  {
   "cell_type": "code",
   "execution_count": 32,
   "metadata": {},
   "outputs": [
    {
     "name": "stdout",
     "output_type": "stream",
     "text": [
      "last_item\n",
      "[1, 2, 3, 'here', 5, 4]\n"
     ]
    }
   ],
   "source": [
    "the_list = [1, 2, 3, 'here', 5, 4, 'last_item']\n",
    "\n",
    "pop_item = the_list.pop(-1)\n",
    "print(pop_item)\n",
    "print(the_list)"
   ]
  },
  {
   "cell_type": "code",
   "execution_count": 36,
   "metadata": {},
   "outputs": [
    {
     "name": "stdout",
     "output_type": "stream",
     "text": [
      "Baby,\n",
      "Monday, I miss you!\n",
      "Tuesday, I miss you!\n",
      "Wednesday, I miss you!\n",
      "Thursday, I miss you!\n",
      "Friday, I miss you!\n",
      "Saturday, I miss you!\n",
      "Sunday, I miss you!\n"
     ]
    }
   ],
   "source": [
    "a_week = ['Monday','Tuesday','Wednesday','Thursday','Friday',\n",
    "          'Saturday','Sunday']\n",
    "\n",
    "print('Baby,')\n",
    "\n",
    "for each_day in a_week:\n",
    "    print(each_day + ', I miss you!')"
   ]
  },
  {
   "cell_type": "code",
   "execution_count": 37,
   "metadata": {},
   "outputs": [
    {
     "name": "stdout",
     "output_type": "stream",
     "text": [
      "[2.74, 4.932, 1.6851, 113.9977, 3.151]\n"
     ]
    }
   ],
   "source": [
    "usd = [2, 3.60, 1.23, 83.21, 2.3]\n",
    "exchange_rate = 1.37\n",
    "\n",
    "sgd = []\n",
    "\n",
    "for trans in usd:\n",
    "    sgd.append(trans * exchange_rate)\n",
    "    \n",
    "print(sgd)"
   ]
  },
  {
   "cell_type": "code",
   "execution_count": 38,
   "metadata": {},
   "outputs": [
    {
     "name": "stdout",
     "output_type": "stream",
     "text": [
      "[2.74, 4.932, 1.6851, 113.9977, 3.151]\n"
     ]
    }
   ],
   "source": [
    "usd = [2, 3.60, 1.23, 83.21, 2.3]\n",
    "exchange_rate = 1.37\n",
    "\n",
    "sgd = [trans * exchange_rate for trans in usd]\n",
    "\n",
    "print(sgd)"
   ]
  },
  {
   "cell_type": "code",
   "execution_count": 39,
   "metadata": {},
   "outputs": [
    {
     "name": "stdout",
     "output_type": "stream",
     "text": [
      "[2.5, 5]\n"
     ]
    }
   ],
   "source": [
    "given_list = [0.56, 1.2, 0.3, 0, 2.5, 5, 0.999, 0.4, 1.001]\n",
    "\n",
    "new_list = [number for number in given_list if number >2]\n",
    "\n",
    "print(new_list)"
   ]
  },
  {
   "cell_type": "code",
   "execution_count": 42,
   "metadata": {},
   "outputs": [
    {
     "name": "stdout",
     "output_type": "stream",
     "text": [
      "[300, 550, 550, 285]\n",
      "[300, 285]\n"
     ]
    }
   ],
   "source": [
    "order = 550\n",
    "demands = [300, 800 , 560, 285]\n",
    "\n",
    "sales = [demand if demand < order else order\n",
    "         for demand in demands]\n",
    "\n",
    "sales1 = [demand for demand in demands\n",
    "          if demand < order]\n",
    "\n",
    "print(sales)\n",
    "print(sales1)"
   ]
  },
  {
   "cell_type": "code",
   "execution_count": 43,
   "metadata": {},
   "outputs": [],
   "source": [
    "colors = 'red', 'blue', 'magenta'\n",
    "mixed = [1, 'Free', [2,3]]"
   ]
  },
  {
   "cell_type": "code",
   "execution_count": 46,
   "metadata": {},
   "outputs": [
    {
     "name": "stdout",
     "output_type": "stream",
     "text": [
      "<class 'tuple'> <class 'tuple'> <class 'str'>\n",
      "() ('first_item',) first_item\n"
     ]
    }
   ],
   "source": [
    "empty_tuple = ()\n",
    "one_tuple = ('first_item',)\n",
    "one_string = ('first_item')\n",
    "\n",
    "print(type(empty_tuple), type(one_tuple),type(one_string))\n",
    "print(empty_tuple, one_tuple, one_string)"
   ]
  },
  {
   "cell_type": "code",
   "execution_count": 47,
   "metadata": {},
   "outputs": [
    {
     "name": "stdout",
     "output_type": "stream",
     "text": [
      "red blue green\n"
     ]
    }
   ],
   "source": [
    "colors = 'red', 'blue', 'green'\n",
    "\n",
    "red, blue, green = colors\n",
    "\n",
    "print(red, blue, green)"
   ]
  },
  {
   "cell_type": "code",
   "execution_count": 49,
   "metadata": {},
   "outputs": [
    {
     "name": "stdout",
     "output_type": "stream",
     "text": [
      "bad_guy good_guy\n"
     ]
    }
   ],
   "source": [
    "cage = 'good_guy'\n",
    "travolta = 'bad_guy'\n",
    "\n",
    "temp = cage\n",
    "cage = travolta\n",
    "travolta = temp\n",
    "\n",
    "print(cage, travolta)"
   ]
  },
  {
   "cell_type": "code",
   "execution_count": 50,
   "metadata": {},
   "outputs": [
    {
     "name": "stdout",
     "output_type": "stream",
     "text": [
      "bad_guy good_guy\n"
     ]
    }
   ],
   "source": [
    "cage = 'good_guy'\n",
    "travolta = 'bad_guy'\n",
    "\n",
    "cage, travolta = travolta, cage\n",
    "\n",
    "print(cage, travolta)"
   ]
  },
  {
   "cell_type": "code",
   "execution_count": 53,
   "metadata": {},
   "outputs": [
    {
     "name": "stdout",
     "output_type": "stream",
     "text": [
      "(1, 0.15)\n",
      "(2, 0.25)\n",
      "(3, 0.2)\n",
      "(4, 0.1)\n",
      "(5, 0.2)\n",
      "(6, 0.1)\n",
      "3.25\n"
     ]
    }
   ],
   "source": [
    "outcome = [1,2,3,4,5,6]\n",
    "probs = [0.15, 0.25, 0.2, 0.1, 0.2, 0.1]\n",
    "\n",
    "exp_value = 0\n",
    "\n",
    "for a_tuple in zip(outcome, probs):\n",
    "    print(a_tuple)\n",
    "    outcome, probs = a_tuple\n",
    "    exp_value = exp_value + outcome * probs\n",
    "    \n",
    "print(exp_value)"
   ]
  },
  {
   "cell_type": "code",
   "execution_count": 55,
   "metadata": {},
   "outputs": [
    {
     "name": "stdout",
     "output_type": "stream",
     "text": [
      "3.25\n"
     ]
    }
   ],
   "source": [
    "outcome = [1,2,3,4,5,6]\n",
    "probs = [0.15, 0.25, 0.2, 0.1, 0.2, 0.1]\n",
    "\n",
    "exp_value = 0\n",
    "\n",
    "for outcome, probs in zip (outcome, probs):\n",
    "    exp_value = exp_value + outcome * probs\n",
    "    \n",
    "print(exp_value)"
   ]
  },
  {
   "cell_type": "code",
   "execution_count": 56,
   "metadata": {},
   "outputs": [
    {
     "name": "stdout",
     "output_type": "stream",
     "text": [
      "3.25\n"
     ]
    }
   ],
   "source": [
    "outcome = [1,2,3,4,5,6]\n",
    "probs = [0.15, 0.25, 0.2, 0.1, 0.2, 0.1]\n",
    "\n",
    "list_temp = [outcome * probs\n",
    "             for outcome, probs in zip (outcome, probs)]\n",
    "\n",
    "exp_value = sum(list_temp)\n",
    "\n",
    "print(exp_value)"
   ]
  },
  {
   "cell_type": "code",
   "execution_count": 59,
   "metadata": {},
   "outputs": [
    {
     "name": "stdout",
     "output_type": "stream",
     "text": [
      "Name : Jack Sparrow\n",
      "Age : 52\n",
      "Workplace : Black Pearl\n",
      "Title : Captain\n"
     ]
    }
   ],
   "source": [
    "personal_info = ['Jack Sparrow', 52, 'Black Pearl', 'Captain']\n",
    "\n",
    "print('Name : ' + personal_info[0])\n",
    "print('Age : ' + str(personal_info[1]))\n",
    "print('Workplace : ' + personal_info[2])\n",
    "print('Title : ' + personal_info[3])"
   ]
  },
  {
   "cell_type": "code",
   "execution_count": 61,
   "metadata": {},
   "outputs": [
    {
     "name": "stdout",
     "output_type": "stream",
     "text": [
      "Name : Jack Sparrow\n",
      "Age : 52\n",
      "Workplace : Black Pearl\n",
      "Title : Captain\n"
     ]
    }
   ],
   "source": [
    "personal_info = ['Jack Sparrow', 52, 'Black Pearl', 'Captain']\n",
    "\n",
    "name = 0\n",
    "age = 1\n",
    "workplace = 2\n",
    "title = 3\n",
    "\n",
    "print('Name : ' + personal_info[name])\n",
    "print('Age : ' + str(personal_info[age]))\n",
    "print('Workplace : ' + personal_info[workplace])\n",
    "print('Title : ' + personal_info[title])"
   ]
  },
  {
   "cell_type": "code",
   "execution_count": 65,
   "metadata": {},
   "outputs": [
    {
     "name": "stdout",
     "output_type": "stream",
     "text": [
      "Name : Jack Sparrow\n",
      "Age : 52\n",
      "Workplace : Black Pearl\n",
      "Title : Captain\n"
     ]
    }
   ],
   "source": [
    "personal_info = {'name' : 'Jack Sparrow',\n",
    "                 'age' : 52,\n",
    "                 'workplace' : 'Black Pearl',\n",
    "                 'title' : 'Captain'}\n",
    "\n",
    "print('Name : ' + personal_info['name'])\n",
    "print('Age : ' + str(personal_info['age']))\n",
    "print('Workplace : ' + personal_info['workplace'])\n",
    "print('Title : ' + personal_info['title'])"
   ]
  },
  {
   "cell_type": "code",
   "execution_count": 66,
   "metadata": {},
   "outputs": [
    {
     "data": {
      "text/plain": [
       "dict"
      ]
     },
     "execution_count": 66,
     "metadata": {},
     "output_type": "execute_result"
    }
   ],
   "source": [
    "type(personal_info)"
   ]
  },
  {
   "cell_type": "code",
   "execution_count": 67,
   "metadata": {},
   "outputs": [
    {
     "name": "stdout",
     "output_type": "stream",
     "text": [
      "Name: Jack Sparrow\n",
      "Age: 52\n",
      "Workplace: Black Pearl\n",
      "Title: Captain\n"
     ]
    }
   ],
   "source": [
    "personal_info = {'name' : 'Jack Sparrow',\n",
    "                 'age' : 52,\n",
    "                 'workplace' : 'Black Pearl',\n",
    "                 'title' : 'Captain'}\n",
    "\n",
    "for key, value in personal_info.items():\n",
    "    print(key.title() + ': ' + str(value))"
   ]
  },
  {
   "cell_type": "code",
   "execution_count": 68,
   "metadata": {},
   "outputs": [
    {
     "name": "stdout",
     "output_type": "stream",
     "text": [
      "Expected demand: 431.472\n"
     ]
    }
   ],
   "source": [
    "distr = {'weather': ['Sunny', 'Cloudy', 'Raining', 'Thunderstorm', 'Haze'],\n",
    "         'probs': [0.315, 0.226, 0.289, 0.087, 0.083],\n",
    "         'paper1': [560, 530, 389, 202, 278],\n",
    "         'paper2': [533, 486, 386, 234, 263]}\n",
    "\n",
    "probs = distr['probs']\n",
    "paper2 = distr['paper2']\n",
    "\n",
    "demand = sum(prob * dem\n",
    "             for prob, dem in zip(probs, paper2))\n",
    "    \n",
    "print('Expected demand: {0:0.3f}'.format(demand))"
   ]
  },
  {
   "cell_type": "code",
   "execution_count": 69,
   "metadata": {},
   "outputs": [
    {
     "name": "stdout",
     "output_type": "stream",
     "text": [
      "The standard deviation of demand: 431.472\n"
     ]
    }
   ],
   "source": [
    "distr = {'weather': ['Sunny', 'Cloudy', 'Raining', 'Thunderstorm', 'Haze'],\n",
    "         'probs': [0.315, 0.226, 0.289, 0.087, 0.083],\n",
    "         'paper1': [560, 530, 389, 202, 278],\n",
    "         'paper2': [533, 486, 386, 234, 263]}\n",
    "\n",
    "value = 0\n",
    "\n",
    "probs = distr['probs']                              \n",
    "demand2 = distr['paper2'] \n",
    "\n",
    "var2 = sum([prob * d\n",
    "             for prob, d in zip(probs, demand2)])\n",
    "             \n",
    "print('The standard deviation of demand: {0:0.3f}'.format(var2))"
   ]
  },
  {
   "cell_type": "code",
   "execution_count": 70,
   "metadata": {},
   "outputs": [
    {
     "name": "stdout",
     "output_type": "stream",
     "text": [
      "[[1], [1], [1]]\n",
      "[[2], [2], [2]]\n"
     ]
    }
   ],
   "source": [
    "x = [[1]]*3\n",
    "print(x)\n",
    "\n",
    "x[0][0] = 2\n",
    "print(x)\n"
   ]
  },
  {
   "cell_type": "code",
   "execution_count": 71,
   "metadata": {},
   "outputs": [
    {
     "ename": "NameError",
     "evalue": "name 'demand1' is not defined",
     "output_type": "error",
     "traceback": [
      "\u001b[1;31m---------------------------------------------------------------------------\u001b[0m",
      "\u001b[1;31mNameError\u001b[0m                                 Traceback (most recent call last)",
      "\u001b[1;32m<ipython-input-71-85ff2f7a483e>\u001b[0m in \u001b[0;36m<module>\u001b[1;34m\u001b[0m\n\u001b[0;32m      1\u001b[0m exp_sold1 = [prob * d if d < order1 else prob * order1 \n\u001b[1;32m----> 2\u001b[1;33m                 for prob, d in zip(probs, demand1)]\n\u001b[0m\u001b[0;32m      3\u001b[0m \u001b[1;33m\u001b[0m\u001b[0m\n\u001b[0;32m      4\u001b[0m exp_sold1 = sum([prob * d if d < order1 else prob * order1 \n\u001b[0;32m      5\u001b[0m                 for prob, d in zip(probs, demand1)])\n",
      "\u001b[1;31mNameError\u001b[0m: name 'demand1' is not defined"
     ]
    }
   ],
   "source": [
    "exp_sold1 = [prob * d if d < order1 else prob * order1 \n",
    "                for prob, d in zip(probs, demand1)]\n",
    "\n",
    "exp_sold1 = sum([prob * d if d < order1 else prob * order1 \n",
    "                for prob, d in zip(probs, demand1)])\n",
    "\n",
    "\n",
    "print(exp_sold1)\n",
    "\n",
    "exp_profit1 = exp_sold1 * price1 - order1* cost1\n",
    "print(exp_profit1)\n"
   ]
  },
  {
   "cell_type": "code",
   "execution_count": null,
   "metadata": {},
   "outputs": [],
   "source": []
  }
 ],
 "metadata": {
  "kernelspec": {
   "display_name": "Python 3",
   "language": "python",
   "name": "python3"
  },
  "language_info": {
   "codemirror_mode": {
    "name": "ipython",
    "version": 3
   },
   "file_extension": ".py",
   "mimetype": "text/x-python",
   "name": "python",
   "nbconvert_exporter": "python",
   "pygments_lexer": "ipython3",
   "version": "3.7.6"
  }
 },
 "nbformat": 4,
 "nbformat_minor": 4
}
