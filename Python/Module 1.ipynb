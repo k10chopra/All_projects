{
 "cells": [
  {
   "cell_type": "markdown",
   "metadata": {},
   "source": [
    "# Module 1\n",
    "\n",
    "## Jupyter Notebook\n",
    "\n",
    "The Jupyter Notebook is an open-source web application that allows you to create and share documents that contain live code, equations, visualizations and narrative text. Uses include: data cleaning and transformation, numerical simulation, statistical modeling, data visualization, machine learning, and much more."
   ]
  },
  {
   "cell_type": "markdown",
   "metadata": {},
   "source": [
    "## Modal user interface"
   ]
  },
  {
   "cell_type": "markdown",
   "metadata": {},
   "source": [
    "The Jupyter Notebook has a modal user interface. This means that the keyboard does different things depending on which mode the Notebook is in. There are two modes: **edit mode** and **command mode**."
   ]
  },
  {
   "cell_type": "markdown",
   "metadata": {},
   "source": [
    "#### Edit Mode\n"
   ]
  },
  {
   "cell_type": "markdown",
   "metadata": {},
   "source": [
    "Edit mode is indicated by a green cell border and a prompt showing in the editor area:"
   ]
  },
  {
   "cell_type": "code",
   "execution_count": 69,
   "metadata": {},
   "outputs": [],
   "source": [
    "a = 10"
   ]
  },
  {
   "cell_type": "markdown",
   "metadata": {},
   "source": [
    " - Edit the content of a cell \n",
    "\n",
    " - Press enter (return for Mac OS) to enable edit mode, and esc to quit editing"
   ]
  },
  {
   "cell_type": "markdown",
   "metadata": {},
   "source": [
    "#### Command Mode"
   ]
  },
  {
   "cell_type": "markdown",
   "metadata": {},
   "source": [
    "Command mode is indicated by a grey cell border with a blue left margin"
   ]
  },
  {
   "cell_type": "code",
   "execution_count": null,
   "metadata": {},
   "outputs": [],
   "source": [
    "a = 10"
   ]
  },
  {
   "cell_type": "markdown",
   "metadata": {},
   "source": [
    "- Notebook level actions: insert/remove cells, and change cell types, etc.\n",
    "- Keyboard shortcuts\n",
    "    -    A: insert a cell above\n",
    "    -    B: insert a cell below\n",
    "    -     D, D: delete a cell\n",
    "    -     M: change to markdown mode\n",
    "    -    Y: change to code mode"
   ]
  },
  {
   "cell_type": "markdown",
   "metadata": {},
   "source": [
    "#### Other keyboard shortcuts"
   ]
  },
  {
   "cell_type": "markdown",
   "metadata": {},
   "source": [
    "- ctrl + enter (control + enter for Mac OS): run cells\n",
    "- shift + enter (shift + return for Mac OS): run cells, and select (insert) the cell below\n",
    "\n",
    "Once a code cell is executed, there will be a number appearing in the square bracket in front of the cell, indicating the sequence of executing cells."
   ]
  },
  {
   "cell_type": "markdown",
   "metadata": {},
   "source": [
    "### Try Python as a scientific calculator "
   ]
  },
  {
   "cell_type": "code",
   "execution_count": 27,
   "metadata": {},
   "outputs": [
    {
     "data": {
      "text/plain": [
       "22.0"
      ]
     },
     "execution_count": 27,
     "metadata": {},
     "output_type": "execute_result"
    }
   ],
   "source": [
    "(2+3.5) * 6 / (1.75-0.25)"
   ]
  },
  {
   "cell_type": "code",
   "execution_count": 28,
   "metadata": {},
   "outputs": [
    {
     "data": {
      "text/plain": [
       "3.375"
      ]
     },
     "execution_count": 28,
     "metadata": {},
     "output_type": "execute_result"
    }
   ],
   "source": [
    "1.5 ** 3   # ** 1.5 to the power of 3 "
   ]
  },
  {
   "cell_type": "markdown",
   "metadata": {},
   "source": [
    "The result of the last line of code would be output as the \"Out\". Results of the other lines are not displayed as the \"Out\". If you want to display the results of code other than the last line, you can always use the function print. Please check the following example."
   ]
  },
  {
   "cell_type": "code",
   "execution_count": 29,
   "metadata": {},
   "outputs": [
    {
     "name": "stdout",
     "output_type": "stream",
     "text": [
      "6\n"
     ]
    },
    {
     "data": {
      "text/plain": [
       "8"
      ]
     },
     "execution_count": 29,
     "metadata": {},
     "output_type": "execute_result"
    }
   ],
   "source": [
    "2 + 3               # Result 5 is not displayed\n",
    "print(1 + 5)        # Result 6 is displayed by the function print\n",
    "1.5                 # Result 1.5 is not displayed\n",
    "1 + 2 + 5           # Result 8 is displayed"
   ]
  },
  {
   "cell_type": "markdown",
   "metadata": {},
   "source": [
    "<div class=\"alert alert-block alert-success\">\n",
    "<b>Example 1:</b>  \n",
    "A grocery store had 500 packs of cookies in storage. Among the total storage, 5% were dumped due to expiration, and another 230 packs were sold this month. Calculate how many packs of cookies left in the grocery store.\n",
    "</div>"
   ]
  },
  {
   "cell_type": "code",
   "execution_count": 31,
   "metadata": {},
   "outputs": [
    {
     "data": {
      "text/plain": [
       "245.0"
      ]
     },
     "execution_count": 31,
     "metadata": {},
     "output_type": "execute_result"
    }
   ],
   "source": [
    "500*(1-0.05) - 230"
   ]
  },
  {
   "cell_type": "markdown",
   "metadata": {},
   "source": [
    "### Python objects, variables and simple data types"
   ]
  },
  {
   "cell_type": "markdown",
   "metadata": {},
   "source": [
    "### Objects"
   ]
  },
  {
   "cell_type": "markdown",
   "metadata": {},
   "source": [
    "Objects are abstraction for Python data. All data in a Python program is represented by objects or by relations between objects. Each object has a value and a type. Examples of data objects are given below."
   ]
  },
  {
   "cell_type": "code",
   "execution_count": 34,
   "metadata": {},
   "outputs": [
    {
     "name": "stdout",
     "output_type": "stream",
     "text": [
      "2.0\n",
      "<class 'float'>\n"
     ]
    }
   ],
   "source": [
    "print(2.00)             # The value of 2.00 is 2\n",
    "print(type(2.00))       # The type of 2.00 is float"
   ]
  },
  {
   "cell_type": "code",
   "execution_count": 35,
   "metadata": {},
   "outputs": [
    {
     "name": "stdout",
     "output_type": "stream",
     "text": [
      "2\n",
      "<class 'int'>\n"
     ]
    }
   ],
   "source": [
    "print(2)                # The value of 2 is 2\n",
    "print(type(2))          # The type of 2 is int"
   ]
  },
  {
   "cell_type": "code",
   "execution_count": 36,
   "metadata": {},
   "outputs": [
    {
     "name": "stdout",
     "output_type": "stream",
     "text": [
      "3.1\n",
      "<class 'float'>\n"
     ]
    }
   ],
   "source": [
    "print(2 + 1.1)          # The value of 2 + 1.1 is 3.1\n",
    "print(type(2 + 1.1))    # The type of 2 + 1.1 is float"
   ]
  },
  {
   "cell_type": "markdown",
   "metadata": {},
   "source": [
    "Besides data, Python functions are also objects, as the following case."
   ]
  },
  {
   "cell_type": "code",
   "execution_count": 37,
   "metadata": {},
   "outputs": [
    {
     "name": "stdout",
     "output_type": "stream",
     "text": [
      "<built-in function print>\n",
      "<class 'builtin_function_or_method'>\n"
     ]
    }
   ],
   "source": [
    "print(print)        # The value of function print\n",
    "print(type(print))  # The type of function print"
   ]
  },
  {
   "cell_type": "markdown",
   "metadata": {},
   "source": [
    "### Variables and assignment statement"
   ]
  },
  {
   "cell_type": "markdown",
   "metadata": {},
   "source": [
    "- Assignment operator =\n",
    "- Variable(s): name(s) on the left\n",
    "- Value(s): expression(s) on the right\n",
    "- The value of a variable can be retrieved by invoking the name"
   ]
  },
  {
   "cell_type": "markdown",
   "metadata": {},
   "source": [
    "### Variables and assignment statement <a id='subsection2.2'></a>\n",
    "- Assignment operator <code>=</code> \n",
    "- Variable(s): name(s) on the left\n",
    "- Value(s): expression(s) on the right\n",
    "- The value of a variable can be retrieved by invoking the name\n",
    "\n",
    "<div class=\"alert alert-block alert-success\">\n",
    "<b>Example 1:</b>  \n",
    "A grocery store had 500 packs of cookies in storage. Among the total storage, 5% were dumped due to expiration, and another 230 packs were sold this month. Calculate how many packs of cookies left in the grocery store.\n",
    "</div>"
   ]
  },
  {
   "cell_type": "code",
   "execution_count": 39,
   "metadata": {},
   "outputs": [
    {
     "data": {
      "text/plain": [
       "245.0"
      ]
     },
     "execution_count": 39,
     "metadata": {},
     "output_type": "execute_result"
    }
   ],
   "source": [
    "storage = 500\n",
    "dump_rate = 0.05\n",
    "sold = 230\n",
    "\n",
    "storage*(1-dump_rate) - sold"
   ]
  },
  {
   "cell_type": "markdown",
   "metadata": {},
   "source": [
    "#### Variables give names to values\n",
    "- Reuse the same value\n",
    "- Improve readability\n",
    "- Enable control flow\n",
    "\n",
    "#### Rules of Python variable names\n",
    "<div class=\"alert alert-block alert-danger\">\n",
    "<b>Notes:</b> \n",
    "Syntax for variable names:\n",
    "\n",
    "\n",
    "  - Only one word\n",
    "  - Only consist of letters, numbers, and underscores\n",
    "  - Cannot begin with a number\n",
    "  - Avoid contradictions with Python <a href=\"https://www.programiz.com/python-programming/keyword-list\"><b>keywords</b></a>\n",
    "\n",
    "\n",
    "Do not worry too much about memorizing all keywords. In Jupyter and other programming environment, the keywords are highlighted by a different color, to prevent users from naming their variables and functions after the keywords. \n",
    "</div>"
   ]
  },
  {
   "cell_type": "markdown",
   "metadata": {},
   "source": [
    "<div class=\"alert alert-block alert-danger\">\n",
    "<b>Notes:</b> \n",
    "After a variable is defined by an assignment statement, this variable would be \"remembered\" by Python in all subsequent cells. Accessing a variable before defining it would generate an error message saying this variable is not defined. \n",
    "</div>"
   ]
  },
  {
   "cell_type": "markdown",
   "metadata": {},
   "source": [
    "In the previous code cells, the variable <code>storage</code> was defined to be 500. It is remembered by Python, so we can apply its value in the right-hand-side expression of the following code."
   ]
  },
  {
   "cell_type": "code",
   "execution_count": 40,
   "metadata": {},
   "outputs": [],
   "source": [
    "\"\"\"Storage is updated with a new value\"\"\"\n",
    "\n",
    "storage = storage*(1-dump_rate) - sold"
   ]
  },
  {
   "cell_type": "code",
   "execution_count": 41,
   "metadata": {},
   "outputs": [
    {
     "name": "stdout",
     "output_type": "stream",
     "text": [
      "245.0\n"
     ]
    }
   ],
   "source": [
    "\"\"\"Retriving the new value via invoking the name\"\"\"\n",
    "\n",
    "print(storage)"
   ]
  },
  {
   "cell_type": "markdown",
   "metadata": {},
   "source": [
    "We may also apply the outputs of functions in the right-hand-side expressions, as the next example.\n",
    "\n",
    "<div class=\"alert alert-block alert-success\">\n",
    "<b>Example 2:</b>  \n",
    "Use the \"input\" function in assignment statements\n",
    "</div>"
   ]
  },
  {
   "cell_type": "code",
   "execution_count": 44,
   "metadata": {},
   "outputs": [
    {
     "name": "stdout",
     "output_type": "stream",
     "text": [
      "What's your Name: Ketan\n",
      "Hello Ketan\n"
     ]
    }
   ],
   "source": [
    "greetings = \"Hello \"\n",
    "name = input(\"What's your Name: \")    # Assign the output of input to name\n",
    "\n",
    "print(greetings + name)               # Print both greetings and name"
   ]
  },
  {
   "cell_type": "markdown",
   "metadata": {},
   "source": [
    "<div class=\"alert alert-block alert-danger\">\n",
    "<b>Notes:</b> In programming, <b>=</b> is an assignment operator, instead of an equal sign in mathematics. For example, <b>x = 2*x - 1</b> in mathematics indicates an equation with unknown variable x, and the solution to this equation is <b>x = 1</b>. In programming, however, <b>x = 2*x - 1</b> suggests that <b>x</b> is assigned to a new value, expressed as twice of its initial value minus one. \n",
    "</div>\n",
    "\n",
    "#### Other assignment operations\n",
    "\n",
    "- Addition assignment __+=__ and subtraction assignment __-=__\n",
    "- Explore other operators: __\\*=__, __/=__, __\\*\\*=__\n",
    "\n",
    "<div class=\"alert alert-block alert-success\">\n",
    "<b>Extra Example:</b>  \n",
    "John has a saving account with \\$10,000 left in the previous month. His income and spendings for this month are \\$5,500 and $3,800, respectively. How much does he have in his saving account at the end of the month?\n",
    "</div>"
   ]
  },
  {
   "cell_type": "code",
   "execution_count": 46,
   "metadata": {},
   "outputs": [],
   "source": [
    "saving = 10000      # The initial saving is $10,000\n",
    "income = 5500       # The income is $5500\n",
    "spending = 3800     # The spending is $3800\n",
    "\n",
    "\n",
    "saving += income    # It is equivalent to \"saving = saving + income\"\n",
    "saving -= spending  # It is equivalent to \"saving = saving - spending\""
   ]
  },
  {
   "cell_type": "code",
   "execution_count": 47,
   "metadata": {},
   "outputs": [
    {
     "data": {
      "text/plain": [
       "11700"
      ]
     },
     "execution_count": 47,
     "metadata": {},
     "output_type": "execute_result"
    }
   ],
   "source": [
    "saving"
   ]
  },
  {
   "cell_type": "markdown",
   "metadata": {},
   "source": [
    "<div class=\"alert alert-block alert-warning\">\n",
    "<b>Coding Style:</b> \n",
    "<a href=\"https://www.python.org/dev/peps/pep-0008/#function-and-variable-names\">PEP 8 Style Guide:</a> \n",
    "\n",
    "-   Function and variable names\n",
    "-   Whitespace in expressions and statements\n",
    "</div>\n",
    "\n",
    "\n",
    "     \n",
    "### Basic built-in data types <a id='subsection2.3'></a>\n",
    "In Python and many other programming languages, data type is of great importance because it determines whether an operator or a function works for the data, or how they work. Especially, the same operator and function may work differently for data with different types. Python has numerous data types, and in this lecture, we are going to discuss a few basic built-in data types.\n",
    "\n",
    "#### Numeric types\n",
    "- **int**: signed integers\n",
    "- **float**: floating point real numbers\n",
    "- **long** and **complex**: long integers and complex numbers (not covered in this course)\n",
    "\n",
    "<div class=\"alert alert-block alert-success\">\n",
    "<b>Example 1:</b>  \n",
    "A grocery store had 500 packs of cookies in storage. Among the total storage, 5% were dumped due to expiration, and another 230 packs are sold this month. Calculate how many packs of cookies left in the grocery store.\n",
    "</div>"
   ]
  },
  {
   "cell_type": "code",
   "execution_count": 48,
   "metadata": {},
   "outputs": [
    {
     "data": {
      "text/plain": [
       "int"
      ]
     },
     "execution_count": 48,
     "metadata": {},
     "output_type": "execute_result"
    }
   ],
   "source": [
    "storage = 5000\n",
    "type(storage)"
   ]
  },
  {
   "cell_type": "code",
   "execution_count": 49,
   "metadata": {},
   "outputs": [
    {
     "data": {
      "text/plain": [
       "float"
      ]
     },
     "execution_count": 49,
     "metadata": {},
     "output_type": "execute_result"
    }
   ],
   "source": [
    "storage = 5000.0\n",
    "type(storage)"
   ]
  },
  {
   "cell_type": "code",
   "execution_count": 50,
   "metadata": {},
   "outputs": [
    {
     "data": {
      "text/plain": [
       "float"
      ]
     },
     "execution_count": 50,
     "metadata": {},
     "output_type": "execute_result"
    }
   ],
   "source": [
    "storage = 5000\n",
    "dump_rate = 0.05\n",
    "\n",
    "type(storage * (1 - dump_rate))"
   ]
  },
  {
   "cell_type": "markdown",
   "metadata": {},
   "source": [
    "#### String\n",
    "In python, a string is expressed by a sequence of characters surrounded by either single or double quotation marks. For example, "
   ]
  },
  {
   "cell_type": "code",
   "execution_count": 51,
   "metadata": {},
   "outputs": [
    {
     "name": "stdout",
     "output_type": "stream",
     "text": [
      "Hello Python\n"
     ]
    },
    {
     "data": {
      "text/plain": [
       "str"
      ]
     },
     "execution_count": 51,
     "metadata": {},
     "output_type": "execute_result"
    }
   ],
   "source": [
    "greeting = 'Hello Python'\n",
    "\n",
    "print(greeting)\n",
    "type(greeting)"
   ]
  },
  {
   "cell_type": "code",
   "execution_count": 52,
   "metadata": {},
   "outputs": [
    {
     "name": "stdout",
     "output_type": "stream",
     "text": [
      "5000.0\n"
     ]
    },
    {
     "data": {
      "text/plain": [
       "str"
      ]
     },
     "execution_count": 52,
     "metadata": {},
     "output_type": "execute_result"
    }
   ],
   "source": [
    "storage_str = \"5000.0\"\n",
    "\n",
    "print(storage_str)\n",
    "type(storage_str)"
   ]
  },
  {
   "cell_type": "markdown",
   "metadata": {},
   "source": [
    "The operator <code>+</code> can be used to concatenate string segments, and the operator <code>*</code> can be used to repeat the content of a string by a given number of times, as shown by the example we have seen before. Note that the string \"\\n\" starts a new line."
   ]
  },
  {
   "cell_type": "code",
   "execution_count": 57,
   "metadata": {},
   "outputs": [
    {
     "name": "stdout",
     "output_type": "stream",
     "text": [
      "I love you Nidhi\n",
      "I love you Nidhi\n",
      "I love you Nidhi\n",
      "I love you Nidhi\n",
      "I love you Nidhi\n",
      "I love you Nidhi\n",
      "I love you Nidhi\n",
      "I love you Nidhi\n",
      "I love you Nidhi\n",
      "I love you Nidhi\n",
      "\n"
     ]
    }
   ],
   "source": [
    "print('I love you Nidhi\\n' * 10)"
   ]
  },
  {
   "cell_type": "markdown",
   "metadata": {},
   "source": [
    "<div class=\"alert alert-block alert-success\">\n",
    "<b>Example 3:</b>\n",
    "    The function <b>input</b> enables users to type in a string of characters. Print a message \"Your input is: \", followed by the input string repeated ten times.\n",
    "</div>"
   ]
  },
  {
   "cell_type": "code",
   "execution_count": 68,
   "metadata": {},
   "outputs": [
    {
     "name": "stdout",
     "output_type": "stream",
     "text": [
      "Type Something Here: Nidhi \n",
      "Your input is: Nidhi Nidhi Nidhi Nidhi Nidhi Nidhi Nidhi Nidhi Nidhi Nidhi \n"
     ]
    }
   ],
   "source": [
    "input_str = input('Type Something Here: ')\n",
    "\n",
    "print('Your input is: ' + input_str *10)"
   ]
  },
  {
   "cell_type": "markdown",
   "metadata": {},
   "source": [
    "<div class=\"alert alert-block alert-danger\">\n",
    "<b>Notes:</b>  \n",
    "    Please be careful when the input is a \"number\". The input is always a string, so the multiplication operator <b>*</b> would repeat the input string ten times, instead of multiplying the numerical value by ten.\n",
    "    If we want to multiply the input number by ten, we need to rewrite the code as follows by using data type conversions, which is introduced in the next subsection.\n",
    "</div>"
   ]
  },
  {
   "cell_type": "code",
   "execution_count": 71,
   "metadata": {},
   "outputs": [
    {
     "name": "stdout",
     "output_type": "stream",
     "text": [
      "1.0\n",
      "1379153627376\n",
      "<class 'float'>\n",
      "-------------\n",
      "1\n",
      "140716868346256\n",
      "<class 'int'>\n",
      "--------------\n",
      "1\n",
      "1379154432368\n",
      "<class 'str'>\n"
     ]
    }
   ],
   "source": [
    "x = 1.0 #defining x\n",
    "print(x) # print the value of x\n",
    "print(id(x)) # location in the memory\n",
    "print(type(x)) # what is object type of x\n",
    "\n",
    "print(\"-------------\")\n",
    "\n",
    "# converting x to int\n",
    "x = int(x)\n",
    "print(x)\n",
    "print(id(x))\n",
    "print(type(x))\n",
    "\n",
    "print(\"--------------\")\n",
    "\n",
    "# converting x to string\n",
    "x = str(x)\n",
    "print(x)\n",
    "print(id(x))\n",
    "print(type(x))"
   ]
  },
  {
   "cell_type": "markdown",
   "metadata": {},
   "source": [
    "[I am Ketan Chopra](https://www.google.com)"
   ]
  },
  {
   "cell_type": "code",
   "execution_count": 72,
   "metadata": {},
   "outputs": [],
   "source": [
    "x = 30"
   ]
  },
  {
   "cell_type": "code",
   "execution_count": 73,
   "metadata": {},
   "outputs": [
    {
     "data": {
      "text/plain": [
       "140716868347184"
      ]
     },
     "execution_count": 73,
     "metadata": {},
     "output_type": "execute_result"
    }
   ],
   "source": [
    "id(x)"
   ]
  },
  {
   "cell_type": "code",
   "execution_count": 74,
   "metadata": {},
   "outputs": [],
   "source": [
    "y =30"
   ]
  },
  {
   "cell_type": "code",
   "execution_count": 75,
   "metadata": {},
   "outputs": [
    {
     "data": {
      "text/plain": [
       "140716868347184"
      ]
     },
     "execution_count": 75,
     "metadata": {},
     "output_type": "execute_result"
    }
   ],
   "source": [
    "id (y)"
   ]
  },
  {
   "cell_type": "markdown",
   "metadata": {},
   "source": [
    "![Orange Cat](http://icons.iconarchive.com/icons/google/noto-emoji-animals-nature/256/22221-cat-icon.png)"
   ]
  },
  {
   "cell_type": "code",
   "execution_count": 80,
   "metadata": {},
   "outputs": [
    {
     "name": "stdout",
     "output_type": "stream",
     "text": [
      "x\ty\tz\n",
      "1\t2\t3\n"
     ]
    }
   ],
   "source": [
    "print(\"x\\ty\\tz\\n1\\t2\\t3\")"
   ]
  },
  {
   "cell_type": "code",
   "execution_count": 83,
   "metadata": {},
   "outputs": [
    {
     "data": {
      "text/plain": [
       "108"
      ]
     },
     "execution_count": 83,
     "metadata": {},
     "output_type": "execute_result"
    }
   ],
   "source": [
    "int(\"3f\",31)"
   ]
  },
  {
   "cell_type": "code",
   "execution_count": 85,
   "metadata": {},
   "outputs": [
    {
     "name": "stdout",
     "output_type": "stream",
     "text": [
      "I'm\n"
     ]
    }
   ],
   "source": [
    "print (str('I\\'m'))"
   ]
  },
  {
   "cell_type": "code",
   "execution_count": null,
   "metadata": {},
   "outputs": [],
   "source": []
  }
 ],
 "metadata": {
  "kernelspec": {
   "display_name": "Python 3",
   "language": "python",
   "name": "python3"
  },
  "language_info": {
   "codemirror_mode": {
    "name": "ipython",
    "version": 3
   },
   "file_extension": ".py",
   "mimetype": "text/x-python",
   "name": "python",
   "nbconvert_exporter": "python",
   "pygments_lexer": "ipython3",
   "version": "3.7.6"
  }
 },
 "nbformat": 4,
 "nbformat_minor": 4
}
